{
 "cells": [
  {
   "cell_type": "markdown",
   "id": "8d24c660",
   "metadata": {},
   "source": [
    "**Problem statement: To find comforting, reliable, and cheap houses for our travelling clients**"
   ]
  },
  {
   "cell_type": "code",
   "execution_count": 1,
   "id": "cdac9195",
   "metadata": {},
   "outputs": [],
   "source": [
    "# import necessary libararies \n",
    "import numpy as np \n",
    "import pandas as pd \n",
    "import matplotlib.pyplot as plt \n",
    "import seaborn as sns \n",
    "%matplotlib inline \n",
    "sns.set()"
   ]
  },
  {
   "cell_type": "code",
   "execution_count": 2,
   "id": "6042d401",
   "metadata": {},
   "outputs": [
    {
     "name": "stderr",
     "output_type": "stream",
     "text": [
      "C:\\Users\\OJO Timilehin\\anaconda3\\lib\\site-packages\\IPython\\core\\interactiveshell.py:3165: DtypeWarning: Columns (25) have mixed types.Specify dtype option on import or set low_memory=False.\n",
      "  has_raised = await self.run_ast_nodes(code_ast.body, cell_name,\n"
     ]
    }
   ],
   "source": [
    "# load dataset \n",
    "airb = pd.read_csv('Desktop/Airbnb_Open_Data.csv')"
   ]
  },
  {
   "cell_type": "code",
   "execution_count": 3,
   "id": "fa9b9870",
   "metadata": {},
   "outputs": [],
   "source": [
    "pd.set_option('display.max_columns', None)"
   ]
  },
  {
   "cell_type": "code",
   "execution_count": 4,
   "id": "8f79ee60",
   "metadata": {},
   "outputs": [
    {
     "data": {
      "text/html": [
       "<div>\n",
       "<style scoped>\n",
       "    .dataframe tbody tr th:only-of-type {\n",
       "        vertical-align: middle;\n",
       "    }\n",
       "\n",
       "    .dataframe tbody tr th {\n",
       "        vertical-align: top;\n",
       "    }\n",
       "\n",
       "    .dataframe thead th {\n",
       "        text-align: right;\n",
       "    }\n",
       "</style>\n",
       "<table border=\"1\" class=\"dataframe\">\n",
       "  <thead>\n",
       "    <tr style=\"text-align: right;\">\n",
       "      <th></th>\n",
       "      <th>id</th>\n",
       "      <th>NAME</th>\n",
       "      <th>host id</th>\n",
       "      <th>host_identity_verified</th>\n",
       "      <th>host name</th>\n",
       "      <th>neighbourhood group</th>\n",
       "      <th>neighbourhood</th>\n",
       "      <th>lat</th>\n",
       "      <th>long</th>\n",
       "      <th>country</th>\n",
       "      <th>country code</th>\n",
       "      <th>instant_bookable</th>\n",
       "      <th>cancellation_policy</th>\n",
       "      <th>room type</th>\n",
       "      <th>Construction year</th>\n",
       "      <th>price</th>\n",
       "      <th>service fee</th>\n",
       "      <th>minimum nights</th>\n",
       "      <th>number of reviews</th>\n",
       "      <th>last review</th>\n",
       "      <th>reviews per month</th>\n",
       "      <th>review rate number</th>\n",
       "      <th>calculated host listings count</th>\n",
       "      <th>availability 365</th>\n",
       "      <th>house_rules</th>\n",
       "      <th>license</th>\n",
       "    </tr>\n",
       "  </thead>\n",
       "  <tbody>\n",
       "    <tr>\n",
       "      <th>0</th>\n",
       "      <td>1001254</td>\n",
       "      <td>Clean &amp; quiet apt home by the park</td>\n",
       "      <td>80014485718</td>\n",
       "      <td>unconfirmed</td>\n",
       "      <td>Madaline</td>\n",
       "      <td>Brooklyn</td>\n",
       "      <td>Kensington</td>\n",
       "      <td>40.64749</td>\n",
       "      <td>-73.97237</td>\n",
       "      <td>United States</td>\n",
       "      <td>US</td>\n",
       "      <td>False</td>\n",
       "      <td>strict</td>\n",
       "      <td>Private room</td>\n",
       "      <td>2020.0</td>\n",
       "      <td>$966</td>\n",
       "      <td>$193</td>\n",
       "      <td>10.0</td>\n",
       "      <td>9.0</td>\n",
       "      <td>10/19/2021</td>\n",
       "      <td>0.21</td>\n",
       "      <td>4.0</td>\n",
       "      <td>6.0</td>\n",
       "      <td>286.0</td>\n",
       "      <td>Clean up and treat the home the way you'd like...</td>\n",
       "      <td>NaN</td>\n",
       "    </tr>\n",
       "    <tr>\n",
       "      <th>1</th>\n",
       "      <td>1002102</td>\n",
       "      <td>Skylit Midtown Castle</td>\n",
       "      <td>52335172823</td>\n",
       "      <td>verified</td>\n",
       "      <td>Jenna</td>\n",
       "      <td>Manhattan</td>\n",
       "      <td>Midtown</td>\n",
       "      <td>40.75362</td>\n",
       "      <td>-73.98377</td>\n",
       "      <td>United States</td>\n",
       "      <td>US</td>\n",
       "      <td>False</td>\n",
       "      <td>moderate</td>\n",
       "      <td>Entire home/apt</td>\n",
       "      <td>2007.0</td>\n",
       "      <td>$142</td>\n",
       "      <td>$28</td>\n",
       "      <td>30.0</td>\n",
       "      <td>45.0</td>\n",
       "      <td>5/21/2022</td>\n",
       "      <td>0.38</td>\n",
       "      <td>4.0</td>\n",
       "      <td>2.0</td>\n",
       "      <td>228.0</td>\n",
       "      <td>Pet friendly but please confirm with me if the...</td>\n",
       "      <td>NaN</td>\n",
       "    </tr>\n",
       "    <tr>\n",
       "      <th>2</th>\n",
       "      <td>1002403</td>\n",
       "      <td>THE VILLAGE OF HARLEM....NEW YORK !</td>\n",
       "      <td>78829239556</td>\n",
       "      <td>NaN</td>\n",
       "      <td>Elise</td>\n",
       "      <td>Manhattan</td>\n",
       "      <td>Harlem</td>\n",
       "      <td>40.80902</td>\n",
       "      <td>-73.94190</td>\n",
       "      <td>United States</td>\n",
       "      <td>US</td>\n",
       "      <td>True</td>\n",
       "      <td>flexible</td>\n",
       "      <td>Private room</td>\n",
       "      <td>2005.0</td>\n",
       "      <td>$620</td>\n",
       "      <td>$124</td>\n",
       "      <td>3.0</td>\n",
       "      <td>0.0</td>\n",
       "      <td>NaN</td>\n",
       "      <td>NaN</td>\n",
       "      <td>5.0</td>\n",
       "      <td>1.0</td>\n",
       "      <td>352.0</td>\n",
       "      <td>I encourage you to use my kitchen, cooking and...</td>\n",
       "      <td>NaN</td>\n",
       "    </tr>\n",
       "    <tr>\n",
       "      <th>3</th>\n",
       "      <td>1002755</td>\n",
       "      <td>NaN</td>\n",
       "      <td>85098326012</td>\n",
       "      <td>unconfirmed</td>\n",
       "      <td>Garry</td>\n",
       "      <td>Brooklyn</td>\n",
       "      <td>Clinton Hill</td>\n",
       "      <td>40.68514</td>\n",
       "      <td>-73.95976</td>\n",
       "      <td>United States</td>\n",
       "      <td>US</td>\n",
       "      <td>True</td>\n",
       "      <td>moderate</td>\n",
       "      <td>Entire home/apt</td>\n",
       "      <td>2005.0</td>\n",
       "      <td>$368</td>\n",
       "      <td>$74</td>\n",
       "      <td>30.0</td>\n",
       "      <td>270.0</td>\n",
       "      <td>7/5/2019</td>\n",
       "      <td>4.64</td>\n",
       "      <td>4.0</td>\n",
       "      <td>1.0</td>\n",
       "      <td>322.0</td>\n",
       "      <td>NaN</td>\n",
       "      <td>NaN</td>\n",
       "    </tr>\n",
       "    <tr>\n",
       "      <th>4</th>\n",
       "      <td>1003689</td>\n",
       "      <td>Entire Apt: Spacious Studio/Loft by central park</td>\n",
       "      <td>92037596077</td>\n",
       "      <td>verified</td>\n",
       "      <td>Lyndon</td>\n",
       "      <td>Manhattan</td>\n",
       "      <td>East Harlem</td>\n",
       "      <td>40.79851</td>\n",
       "      <td>-73.94399</td>\n",
       "      <td>United States</td>\n",
       "      <td>US</td>\n",
       "      <td>False</td>\n",
       "      <td>moderate</td>\n",
       "      <td>Entire home/apt</td>\n",
       "      <td>2009.0</td>\n",
       "      <td>$204</td>\n",
       "      <td>$41</td>\n",
       "      <td>10.0</td>\n",
       "      <td>9.0</td>\n",
       "      <td>11/19/2018</td>\n",
       "      <td>0.10</td>\n",
       "      <td>3.0</td>\n",
       "      <td>1.0</td>\n",
       "      <td>289.0</td>\n",
       "      <td>Please no smoking in the house, porch or on th...</td>\n",
       "      <td>NaN</td>\n",
       "    </tr>\n",
       "  </tbody>\n",
       "</table>\n",
       "</div>"
      ],
      "text/plain": [
       "        id                                              NAME      host id  \\\n",
       "0  1001254                Clean & quiet apt home by the park  80014485718   \n",
       "1  1002102                             Skylit Midtown Castle  52335172823   \n",
       "2  1002403               THE VILLAGE OF HARLEM....NEW YORK !  78829239556   \n",
       "3  1002755                                               NaN  85098326012   \n",
       "4  1003689  Entire Apt: Spacious Studio/Loft by central park  92037596077   \n",
       "\n",
       "  host_identity_verified host name neighbourhood group neighbourhood  \\\n",
       "0            unconfirmed  Madaline            Brooklyn    Kensington   \n",
       "1               verified     Jenna           Manhattan       Midtown   \n",
       "2                    NaN     Elise           Manhattan        Harlem   \n",
       "3            unconfirmed     Garry            Brooklyn  Clinton Hill   \n",
       "4               verified    Lyndon           Manhattan   East Harlem   \n",
       "\n",
       "        lat      long        country country code instant_bookable  \\\n",
       "0  40.64749 -73.97237  United States           US            False   \n",
       "1  40.75362 -73.98377  United States           US            False   \n",
       "2  40.80902 -73.94190  United States           US             True   \n",
       "3  40.68514 -73.95976  United States           US             True   \n",
       "4  40.79851 -73.94399  United States           US            False   \n",
       "\n",
       "  cancellation_policy        room type  Construction year  price service fee  \\\n",
       "0              strict     Private room             2020.0  $966        $193    \n",
       "1            moderate  Entire home/apt             2007.0  $142         $28    \n",
       "2            flexible     Private room             2005.0  $620        $124    \n",
       "3            moderate  Entire home/apt             2005.0  $368         $74    \n",
       "4            moderate  Entire home/apt             2009.0  $204         $41    \n",
       "\n",
       "   minimum nights  number of reviews last review  reviews per month  \\\n",
       "0            10.0                9.0  10/19/2021               0.21   \n",
       "1            30.0               45.0   5/21/2022               0.38   \n",
       "2             3.0                0.0         NaN                NaN   \n",
       "3            30.0              270.0    7/5/2019               4.64   \n",
       "4            10.0                9.0  11/19/2018               0.10   \n",
       "\n",
       "   review rate number  calculated host listings count  availability 365  \\\n",
       "0                 4.0                             6.0             286.0   \n",
       "1                 4.0                             2.0             228.0   \n",
       "2                 5.0                             1.0             352.0   \n",
       "3                 4.0                             1.0             322.0   \n",
       "4                 3.0                             1.0             289.0   \n",
       "\n",
       "                                         house_rules license  \n",
       "0  Clean up and treat the home the way you'd like...     NaN  \n",
       "1  Pet friendly but please confirm with me if the...     NaN  \n",
       "2  I encourage you to use my kitchen, cooking and...     NaN  \n",
       "3                                                NaN     NaN  \n",
       "4  Please no smoking in the house, porch or on th...     NaN  "
      ]
     },
     "execution_count": 4,
     "metadata": {},
     "output_type": "execute_result"
    }
   ],
   "source": [
    "airb.head()"
   ]
  },
  {
   "cell_type": "code",
   "execution_count": 5,
   "id": "e7cd2e28",
   "metadata": {},
   "outputs": [],
   "source": [
    "# filtering the needed columns\n",
    "airbnb = airb[['host id', 'host_identity_verified', 'neighbourhood group', 'neighbourhood', \n",
    "               'instant_bookable', 'cancellation_policy', \n",
    "  'room type', 'Construction year', 'price', 'minimum nights', \n",
    "  'number of reviews', 'last review', 'availability 365', 'house_rules']]"
   ]
  },
  {
   "cell_type": "code",
   "execution_count": 6,
   "id": "0e68d894",
   "metadata": {},
   "outputs": [
    {
     "data": {
      "text/html": [
       "<div>\n",
       "<style scoped>\n",
       "    .dataframe tbody tr th:only-of-type {\n",
       "        vertical-align: middle;\n",
       "    }\n",
       "\n",
       "    .dataframe tbody tr th {\n",
       "        vertical-align: top;\n",
       "    }\n",
       "\n",
       "    .dataframe thead th {\n",
       "        text-align: right;\n",
       "    }\n",
       "</style>\n",
       "<table border=\"1\" class=\"dataframe\">\n",
       "  <thead>\n",
       "    <tr style=\"text-align: right;\">\n",
       "      <th></th>\n",
       "      <th>host id</th>\n",
       "      <th>host_identity_verified</th>\n",
       "      <th>neighbourhood group</th>\n",
       "      <th>neighbourhood</th>\n",
       "      <th>instant_bookable</th>\n",
       "      <th>cancellation_policy</th>\n",
       "      <th>room type</th>\n",
       "      <th>Construction year</th>\n",
       "      <th>price</th>\n",
       "      <th>minimum nights</th>\n",
       "      <th>number of reviews</th>\n",
       "      <th>last review</th>\n",
       "      <th>availability 365</th>\n",
       "      <th>house_rules</th>\n",
       "    </tr>\n",
       "  </thead>\n",
       "  <tbody>\n",
       "    <tr>\n",
       "      <th>0</th>\n",
       "      <td>80014485718</td>\n",
       "      <td>unconfirmed</td>\n",
       "      <td>Brooklyn</td>\n",
       "      <td>Kensington</td>\n",
       "      <td>False</td>\n",
       "      <td>strict</td>\n",
       "      <td>Private room</td>\n",
       "      <td>2020.0</td>\n",
       "      <td>$966</td>\n",
       "      <td>10.0</td>\n",
       "      <td>9.0</td>\n",
       "      <td>10/19/2021</td>\n",
       "      <td>286.0</td>\n",
       "      <td>Clean up and treat the home the way you'd like...</td>\n",
       "    </tr>\n",
       "    <tr>\n",
       "      <th>1</th>\n",
       "      <td>52335172823</td>\n",
       "      <td>verified</td>\n",
       "      <td>Manhattan</td>\n",
       "      <td>Midtown</td>\n",
       "      <td>False</td>\n",
       "      <td>moderate</td>\n",
       "      <td>Entire home/apt</td>\n",
       "      <td>2007.0</td>\n",
       "      <td>$142</td>\n",
       "      <td>30.0</td>\n",
       "      <td>45.0</td>\n",
       "      <td>5/21/2022</td>\n",
       "      <td>228.0</td>\n",
       "      <td>Pet friendly but please confirm with me if the...</td>\n",
       "    </tr>\n",
       "    <tr>\n",
       "      <th>2</th>\n",
       "      <td>78829239556</td>\n",
       "      <td>NaN</td>\n",
       "      <td>Manhattan</td>\n",
       "      <td>Harlem</td>\n",
       "      <td>True</td>\n",
       "      <td>flexible</td>\n",
       "      <td>Private room</td>\n",
       "      <td>2005.0</td>\n",
       "      <td>$620</td>\n",
       "      <td>3.0</td>\n",
       "      <td>0.0</td>\n",
       "      <td>NaN</td>\n",
       "      <td>352.0</td>\n",
       "      <td>I encourage you to use my kitchen, cooking and...</td>\n",
       "    </tr>\n",
       "    <tr>\n",
       "      <th>3</th>\n",
       "      <td>85098326012</td>\n",
       "      <td>unconfirmed</td>\n",
       "      <td>Brooklyn</td>\n",
       "      <td>Clinton Hill</td>\n",
       "      <td>True</td>\n",
       "      <td>moderate</td>\n",
       "      <td>Entire home/apt</td>\n",
       "      <td>2005.0</td>\n",
       "      <td>$368</td>\n",
       "      <td>30.0</td>\n",
       "      <td>270.0</td>\n",
       "      <td>7/5/2019</td>\n",
       "      <td>322.0</td>\n",
       "      <td>NaN</td>\n",
       "    </tr>\n",
       "    <tr>\n",
       "      <th>4</th>\n",
       "      <td>92037596077</td>\n",
       "      <td>verified</td>\n",
       "      <td>Manhattan</td>\n",
       "      <td>East Harlem</td>\n",
       "      <td>False</td>\n",
       "      <td>moderate</td>\n",
       "      <td>Entire home/apt</td>\n",
       "      <td>2009.0</td>\n",
       "      <td>$204</td>\n",
       "      <td>10.0</td>\n",
       "      <td>9.0</td>\n",
       "      <td>11/19/2018</td>\n",
       "      <td>289.0</td>\n",
       "      <td>Please no smoking in the house, porch or on th...</td>\n",
       "    </tr>\n",
       "  </tbody>\n",
       "</table>\n",
       "</div>"
      ],
      "text/plain": [
       "       host id host_identity_verified neighbourhood group neighbourhood  \\\n",
       "0  80014485718            unconfirmed            Brooklyn    Kensington   \n",
       "1  52335172823               verified           Manhattan       Midtown   \n",
       "2  78829239556                    NaN           Manhattan        Harlem   \n",
       "3  85098326012            unconfirmed            Brooklyn  Clinton Hill   \n",
       "4  92037596077               verified           Manhattan   East Harlem   \n",
       "\n",
       "  instant_bookable cancellation_policy        room type  Construction year  \\\n",
       "0            False              strict     Private room             2020.0   \n",
       "1            False            moderate  Entire home/apt             2007.0   \n",
       "2             True            flexible     Private room             2005.0   \n",
       "3             True            moderate  Entire home/apt             2005.0   \n",
       "4            False            moderate  Entire home/apt             2009.0   \n",
       "\n",
       "   price  minimum nights  number of reviews last review  availability 365  \\\n",
       "0  $966             10.0                9.0  10/19/2021             286.0   \n",
       "1  $142             30.0               45.0   5/21/2022             228.0   \n",
       "2  $620              3.0                0.0         NaN             352.0   \n",
       "3  $368             30.0              270.0    7/5/2019             322.0   \n",
       "4  $204             10.0                9.0  11/19/2018             289.0   \n",
       "\n",
       "                                         house_rules  \n",
       "0  Clean up and treat the home the way you'd like...  \n",
       "1  Pet friendly but please confirm with me if the...  \n",
       "2  I encourage you to use my kitchen, cooking and...  \n",
       "3                                                NaN  \n",
       "4  Please no smoking in the house, porch or on th...  "
      ]
     },
     "execution_count": 6,
     "metadata": {},
     "output_type": "execute_result"
    }
   ],
   "source": [
    "airbnb.head()"
   ]
  },
  {
   "cell_type": "code",
   "execution_count": 7,
   "id": "d4b99b97",
   "metadata": {},
   "outputs": [
    {
     "name": "stdout",
     "output_type": "stream",
     "text": [
      "<class 'pandas.core.frame.DataFrame'>\n",
      "RangeIndex: 102599 entries, 0 to 102598\n",
      "Data columns (total 14 columns):\n",
      " #   Column                  Non-Null Count   Dtype  \n",
      "---  ------                  --------------   -----  \n",
      " 0   host id                 102599 non-null  int64  \n",
      " 1   host_identity_verified  102310 non-null  object \n",
      " 2   neighbourhood group     102570 non-null  object \n",
      " 3   neighbourhood           102583 non-null  object \n",
      " 4   instant_bookable        102494 non-null  object \n",
      " 5   cancellation_policy     102523 non-null  object \n",
      " 6   room type               102599 non-null  object \n",
      " 7   Construction year       102385 non-null  float64\n",
      " 8   price                   102352 non-null  object \n",
      " 9   minimum nights          102190 non-null  float64\n",
      " 10  number of reviews       102416 non-null  float64\n",
      " 11  last review             86706 non-null   object \n",
      " 12  availability 365        102151 non-null  float64\n",
      " 13  house_rules             50468 non-null   object \n",
      "dtypes: float64(4), int64(1), object(9)\n",
      "memory usage: 11.0+ MB\n"
     ]
    }
   ],
   "source": [
    "# checking general info \n",
    "airbnb.info()"
   ]
  },
  {
   "cell_type": "code",
   "execution_count": 8,
   "id": "c65db7f3",
   "metadata": {},
   "outputs": [
    {
     "name": "stderr",
     "output_type": "stream",
     "text": [
      "<ipython-input-8-bd7482d8a22d>:2: SettingWithCopyWarning: \n",
      "A value is trying to be set on a copy of a slice from a DataFrame.\n",
      "Try using .loc[row_indexer,col_indexer] = value instead\n",
      "\n",
      "See the caveats in the documentation: https://pandas.pydata.org/pandas-docs/stable/user_guide/indexing.html#returning-a-view-versus-a-copy\n",
      "  airbnb['host id'] = airbnb['host id'].astype('object')\n"
     ]
    }
   ],
   "source": [
    "# changing certain variable to correct datatype \n",
    "airbnb['host id'] = airbnb['host id'].astype('object')"
   ]
  },
  {
   "cell_type": "code",
   "execution_count": 9,
   "id": "aa23cb34",
   "metadata": {},
   "outputs": [
    {
     "name": "stderr",
     "output_type": "stream",
     "text": [
      "<ipython-input-9-a3a4cc6ba41e>:2: FutureWarning: The default value of regex will change from True to False in a future version.\n",
      "  airbnb['price'] = airbnb['price'].str.replace(r'[^0-9]+', '')\n",
      "<ipython-input-9-a3a4cc6ba41e>:2: SettingWithCopyWarning: \n",
      "A value is trying to be set on a copy of a slice from a DataFrame.\n",
      "Try using .loc[row_indexer,col_indexer] = value instead\n",
      "\n",
      "See the caveats in the documentation: https://pandas.pydata.org/pandas-docs/stable/user_guide/indexing.html#returning-a-view-versus-a-copy\n",
      "  airbnb['price'] = airbnb['price'].str.replace(r'[^0-9]+', '')\n"
     ]
    }
   ],
   "source": [
    "# strip the '$'' sign in the price column \n",
    "airbnb['price'] = airbnb['price'].str.replace(r'[^0-9]+', '')"
   ]
  },
  {
   "cell_type": "code",
   "execution_count": 10,
   "id": "8a28b300",
   "metadata": {},
   "outputs": [
    {
     "name": "stderr",
     "output_type": "stream",
     "text": [
      "<ipython-input-10-0bee4c236558>:2: SettingWithCopyWarning: \n",
      "A value is trying to be set on a copy of a slice from a DataFrame.\n",
      "Try using .loc[row_indexer,col_indexer] = value instead\n",
      "\n",
      "See the caveats in the documentation: https://pandas.pydata.org/pandas-docs/stable/user_guide/indexing.html#returning-a-view-versus-a-copy\n",
      "  airbnb['price'] = pd.to_numeric(airbnb['price'])\n"
     ]
    }
   ],
   "source": [
    "# convert price to numeric datatype\n",
    "airbnb['price'] = pd.to_numeric(airbnb['price'])"
   ]
  },
  {
   "cell_type": "code",
   "execution_count": 11,
   "id": "f3e1551a",
   "metadata": {},
   "outputs": [
    {
     "name": "stdout",
     "output_type": "stream",
     "text": [
      "<class 'pandas.core.frame.DataFrame'>\n",
      "RangeIndex: 102599 entries, 0 to 102598\n",
      "Data columns (total 14 columns):\n",
      " #   Column                  Non-Null Count   Dtype  \n",
      "---  ------                  --------------   -----  \n",
      " 0   host id                 102599 non-null  object \n",
      " 1   host_identity_verified  102310 non-null  object \n",
      " 2   neighbourhood group     102570 non-null  object \n",
      " 3   neighbourhood           102583 non-null  object \n",
      " 4   instant_bookable        102494 non-null  object \n",
      " 5   cancellation_policy     102523 non-null  object \n",
      " 6   room type               102599 non-null  object \n",
      " 7   Construction year       102385 non-null  float64\n",
      " 8   price                   102352 non-null  float64\n",
      " 9   minimum nights          102190 non-null  float64\n",
      " 10  number of reviews       102416 non-null  float64\n",
      " 11  last review             86706 non-null   object \n",
      " 12  availability 365        102151 non-null  float64\n",
      " 13  house_rules             50468 non-null   object \n",
      "dtypes: float64(5), object(9)\n",
      "memory usage: 11.0+ MB\n"
     ]
    }
   ],
   "source": [
    "airbnb.info()"
   ]
  },
  {
   "cell_type": "code",
   "execution_count": 12,
   "id": "331c68d7",
   "metadata": {},
   "outputs": [
    {
     "data": {
      "text/plain": [
       "host id                       0\n",
       "host_identity_verified      289\n",
       "neighbourhood group          29\n",
       "neighbourhood                16\n",
       "instant_bookable            105\n",
       "cancellation_policy          76\n",
       "room type                     0\n",
       "Construction year           214\n",
       "price                       247\n",
       "minimum nights              409\n",
       "number of reviews           183\n",
       "last review               15893\n",
       "availability 365            448\n",
       "house_rules               52131\n",
       "dtype: int64"
      ]
     },
     "execution_count": 12,
     "metadata": {},
     "output_type": "execute_result"
    }
   ],
   "source": [
    "airbnb.isna().sum()"
   ]
  },
  {
   "cell_type": "markdown",
   "id": "0ccc0629",
   "metadata": {},
   "source": [
    "### Check house listed with host identity verified"
   ]
  },
  {
   "cell_type": "code",
   "execution_count": 13,
   "id": "3e6e6266",
   "metadata": {},
   "outputs": [
    {
     "data": {
      "text/plain": [
       "unconfirmed    51200\n",
       "verified       51110\n",
       "Name: host_identity_verified, dtype: int64"
      ]
     },
     "execution_count": 13,
     "metadata": {},
     "output_type": "execute_result"
    }
   ],
   "source": [
    "# host identity check\n",
    "airbnb.host_identity_verified.value_counts()"
   ]
  },
  {
   "cell_type": "markdown",
   "id": "c654c3db",
   "metadata": {},
   "source": [
    "**For the safety of our clients, we will not be working with listings whose host identity are not verified**"
   ]
  },
  {
   "cell_type": "code",
   "execution_count": 14,
   "id": "baf58abd",
   "metadata": {},
   "outputs": [],
   "source": [
    "# Filter listings with host identity verified \n",
    "used_airb = airbnb[airbnb['host_identity_verified'] == 'verified']"
   ]
  },
  {
   "cell_type": "code",
   "execution_count": 15,
   "id": "f652f2fa",
   "metadata": {},
   "outputs": [
    {
     "data": {
      "text/html": [
       "<div>\n",
       "<style scoped>\n",
       "    .dataframe tbody tr th:only-of-type {\n",
       "        vertical-align: middle;\n",
       "    }\n",
       "\n",
       "    .dataframe tbody tr th {\n",
       "        vertical-align: top;\n",
       "    }\n",
       "\n",
       "    .dataframe thead th {\n",
       "        text-align: right;\n",
       "    }\n",
       "</style>\n",
       "<table border=\"1\" class=\"dataframe\">\n",
       "  <thead>\n",
       "    <tr style=\"text-align: right;\">\n",
       "      <th></th>\n",
       "      <th>host id</th>\n",
       "      <th>host_identity_verified</th>\n",
       "      <th>neighbourhood group</th>\n",
       "      <th>neighbourhood</th>\n",
       "      <th>instant_bookable</th>\n",
       "      <th>cancellation_policy</th>\n",
       "      <th>room type</th>\n",
       "      <th>Construction year</th>\n",
       "      <th>price</th>\n",
       "      <th>minimum nights</th>\n",
       "      <th>number of reviews</th>\n",
       "      <th>last review</th>\n",
       "      <th>availability 365</th>\n",
       "      <th>house_rules</th>\n",
       "    </tr>\n",
       "  </thead>\n",
       "  <tbody>\n",
       "    <tr>\n",
       "      <th>1</th>\n",
       "      <td>52335172823</td>\n",
       "      <td>verified</td>\n",
       "      <td>Manhattan</td>\n",
       "      <td>Midtown</td>\n",
       "      <td>False</td>\n",
       "      <td>moderate</td>\n",
       "      <td>Entire home/apt</td>\n",
       "      <td>2007.0</td>\n",
       "      <td>142.0</td>\n",
       "      <td>30.0</td>\n",
       "      <td>45.0</td>\n",
       "      <td>5/21/2022</td>\n",
       "      <td>228.0</td>\n",
       "      <td>Pet friendly but please confirm with me if the...</td>\n",
       "    </tr>\n",
       "    <tr>\n",
       "      <th>4</th>\n",
       "      <td>92037596077</td>\n",
       "      <td>verified</td>\n",
       "      <td>Manhattan</td>\n",
       "      <td>East Harlem</td>\n",
       "      <td>False</td>\n",
       "      <td>moderate</td>\n",
       "      <td>Entire home/apt</td>\n",
       "      <td>2009.0</td>\n",
       "      <td>204.0</td>\n",
       "      <td>10.0</td>\n",
       "      <td>9.0</td>\n",
       "      <td>11/19/2018</td>\n",
       "      <td>289.0</td>\n",
       "      <td>Please no smoking in the house, porch or on th...</td>\n",
       "    </tr>\n",
       "    <tr>\n",
       "      <th>5</th>\n",
       "      <td>45498551794</td>\n",
       "      <td>verified</td>\n",
       "      <td>Manhattan</td>\n",
       "      <td>Murray Hill</td>\n",
       "      <td>True</td>\n",
       "      <td>flexible</td>\n",
       "      <td>Entire home/apt</td>\n",
       "      <td>2013.0</td>\n",
       "      <td>577.0</td>\n",
       "      <td>3.0</td>\n",
       "      <td>74.0</td>\n",
       "      <td>6/22/2019</td>\n",
       "      <td>374.0</td>\n",
       "      <td>No smoking, please, and no drugs.</td>\n",
       "    </tr>\n",
       "    <tr>\n",
       "      <th>8</th>\n",
       "      <td>79384379533</td>\n",
       "      <td>verified</td>\n",
       "      <td>Manhattan</td>\n",
       "      <td>Hell's Kitchen</td>\n",
       "      <td>True</td>\n",
       "      <td>strict</td>\n",
       "      <td>Private room</td>\n",
       "      <td>2005.0</td>\n",
       "      <td>1018.0</td>\n",
       "      <td>2.0</td>\n",
       "      <td>430.0</td>\n",
       "      <td>6/24/2019</td>\n",
       "      <td>180.0</td>\n",
       "      <td>- Please clean up after yourself when using th...</td>\n",
       "    </tr>\n",
       "    <tr>\n",
       "      <th>10</th>\n",
       "      <td>1280143094</td>\n",
       "      <td>verified</td>\n",
       "      <td>Manhattan</td>\n",
       "      <td>Chinatown</td>\n",
       "      <td>False</td>\n",
       "      <td>flexible</td>\n",
       "      <td>Entire home/apt</td>\n",
       "      <td>2004.0</td>\n",
       "      <td>319.0</td>\n",
       "      <td>1.0</td>\n",
       "      <td>160.0</td>\n",
       "      <td>6/9/2019</td>\n",
       "      <td>1.0</td>\n",
       "      <td>NaN</td>\n",
       "    </tr>\n",
       "  </tbody>\n",
       "</table>\n",
       "</div>"
      ],
      "text/plain": [
       "        host id host_identity_verified neighbourhood group   neighbourhood  \\\n",
       "1   52335172823               verified           Manhattan         Midtown   \n",
       "4   92037596077               verified           Manhattan     East Harlem   \n",
       "5   45498551794               verified           Manhattan     Murray Hill   \n",
       "8   79384379533               verified           Manhattan  Hell's Kitchen   \n",
       "10   1280143094               verified           Manhattan       Chinatown   \n",
       "\n",
       "   instant_bookable cancellation_policy        room type  Construction year  \\\n",
       "1             False            moderate  Entire home/apt             2007.0   \n",
       "4             False            moderate  Entire home/apt             2009.0   \n",
       "5              True            flexible  Entire home/apt             2013.0   \n",
       "8              True              strict     Private room             2005.0   \n",
       "10            False            flexible  Entire home/apt             2004.0   \n",
       "\n",
       "     price  minimum nights  number of reviews last review  availability 365  \\\n",
       "1    142.0            30.0               45.0   5/21/2022             228.0   \n",
       "4    204.0            10.0                9.0  11/19/2018             289.0   \n",
       "5    577.0             3.0               74.0   6/22/2019             374.0   \n",
       "8   1018.0             2.0              430.0   6/24/2019             180.0   \n",
       "10   319.0             1.0              160.0    6/9/2019               1.0   \n",
       "\n",
       "                                          house_rules  \n",
       "1   Pet friendly but please confirm with me if the...  \n",
       "4   Please no smoking in the house, porch or on th...  \n",
       "5                   No smoking, please, and no drugs.  \n",
       "8   - Please clean up after yourself when using th...  \n",
       "10                                                NaN  "
      ]
     },
     "execution_count": 15,
     "metadata": {},
     "output_type": "execute_result"
    }
   ],
   "source": [
    "used_airb.head()"
   ]
  },
  {
   "cell_type": "markdown",
   "id": "37937caf",
   "metadata": {},
   "source": [
    "### What is the distribution of house listings by neighbourhood group?"
   ]
  },
  {
   "cell_type": "code",
   "execution_count": 16,
   "id": "3600982b",
   "metadata": {},
   "outputs": [
    {
     "data": {
      "text/plain": [
       "Manhattan        21817\n",
       "Brooklyn         20855\n",
       "Queens            6633\n",
       "Bronx             1325\n",
       "Staten Island      467\n",
       "brookln              1\n",
       "manhatan             1\n",
       "Name: neighbourhood group, dtype: int64"
      ]
     },
     "execution_count": 16,
     "metadata": {},
     "output_type": "execute_result"
    }
   ],
   "source": [
    "used_airb['neighbourhood group'].value_counts()"
   ]
  },
  {
   "cell_type": "code",
   "execution_count": 17,
   "id": "09d2a32e",
   "metadata": {},
   "outputs": [
    {
     "name": "stderr",
     "output_type": "stream",
     "text": [
      "C:\\Users\\OJO Timilehin\\anaconda3\\lib\\site-packages\\pandas\\core\\series.py:4509: SettingWithCopyWarning: \n",
      "A value is trying to be set on a copy of a slice from a DataFrame\n",
      "\n",
      "See the caveats in the documentation: https://pandas.pydata.org/pandas-docs/stable/user_guide/indexing.html#returning-a-view-versus-a-copy\n",
      "  return super().replace(\n"
     ]
    }
   ],
   "source": [
    "# replace the mispelt neighbourhood group \n",
    "used_airb['neighbourhood group'].replace({'brookln':'Brooklyn', 'manhatan':'Manhattan'}, inplace = True)"
   ]
  },
  {
   "cell_type": "code",
   "execution_count": 18,
   "id": "93d211bf",
   "metadata": {},
   "outputs": [
    {
     "data": {
      "text/plain": [
       "Manhattan        21818\n",
       "Brooklyn         20856\n",
       "Queens            6633\n",
       "Bronx             1325\n",
       "Staten Island      467\n",
       "Name: neighbourhood group, dtype: int64"
      ]
     },
     "execution_count": 18,
     "metadata": {},
     "output_type": "execute_result"
    }
   ],
   "source": [
    "house_distr = used_airb['neighbourhood group'].value_counts()\n",
    "house_distr"
   ]
  },
  {
   "cell_type": "code",
   "execution_count": 19,
   "id": "9aad1cca",
   "metadata": {},
   "outputs": [
    {
     "data": {
      "text/plain": [
       "<AxesSubplot:title={'center':'AirBnB Distribution by Neighbourhood Group'}, xlabel='Neighbourhood group', ylabel='Frequency'>"
      ]
     },
     "execution_count": 19,
     "metadata": {},
     "output_type": "execute_result"
    },
    {
     "data": {
      "image/png": "[encoded data removed]",
      "text/plain": [
       "<Figure size 576x288 with 1 Axes>"
      ]
     },
     "metadata": {},
     "output_type": "display_data"
    }
   ],
   "source": [
    "plt.figure(figsize = (8, 4))\n",
    "house_distr.plot(kind = 'bar', xlabel = 'Neighbourhood group', ylabel = 'Frequency', \n",
    "                 title = 'AirBnB Distribution by Neighbourhood Group')"
   ]
  },
  {
   "cell_type": "markdown",
   "id": "5204ef7f",
   "metadata": {},
   "source": [
    "**Manhattan, Brooklyn have the highest listing with Staton island having the lowest**"
   ]
  },
  {
   "cell_type": "markdown",
   "id": "258f6493",
   "metadata": {},
   "source": [
    "### Which neighbourhood group is the most expensive and cheapest by average to stay in?"
   ]
  },
  {
   "cell_type": "code",
   "execution_count": 20,
   "id": "9d7903f9",
   "metadata": {},
   "outputs": [
    {
     "data": {
      "text/plain": [
       "neighbourhood group\n",
       "Bronx            627.0\n",
       "Brooklyn         625.0\n",
       "Manhattan        621.0\n",
       "Queens           628.0\n",
       "Staten Island    620.0\n",
       "Name: price, dtype: float64"
      ]
     },
     "execution_count": 20,
     "metadata": {},
     "output_type": "execute_result"
    }
   ],
   "source": [
    "# price groupby neighbourhood group \n",
    "neigh_price_avg = round(used_airb.groupby('neighbourhood group')['price'].mean())\n",
    "neigh_price_avg"
   ]
  },
  {
   "cell_type": "markdown",
   "id": "ed0b2e65",
   "metadata": {},
   "source": [
    "**The listings are averagely similar, but Bronx have the highest averagewhile Staten Isalnd have the lowest average with a difference of $7 between them.**"
   ]
  },
  {
   "cell_type": "markdown",
   "id": "51b8b21a",
   "metadata": {},
   "source": [
    "### Which neighbourhood group have the most instant bookable listings"
   ]
  },
  {
   "cell_type": "code",
   "execution_count": 21,
   "id": "d49ea18f",
   "metadata": {},
   "outputs": [
    {
     "data": {
      "text/html": [
       "<div>\n",
       "<style scoped>\n",
       "    .dataframe tbody tr th:only-of-type {\n",
       "        vertical-align: middle;\n",
       "    }\n",
       "\n",
       "    .dataframe tbody tr th {\n",
       "        vertical-align: top;\n",
       "    }\n",
       "\n",
       "    .dataframe thead th {\n",
       "        text-align: right;\n",
       "    }\n",
       "</style>\n",
       "<table border=\"1\" class=\"dataframe\">\n",
       "  <thead>\n",
       "    <tr style=\"text-align: right;\">\n",
       "      <th>instant_bookable</th>\n",
       "      <th>False</th>\n",
       "      <th>True</th>\n",
       "    </tr>\n",
       "    <tr>\n",
       "      <th>neighbourhood group</th>\n",
       "      <th></th>\n",
       "      <th></th>\n",
       "    </tr>\n",
       "  </thead>\n",
       "  <tbody>\n",
       "    <tr>\n",
       "      <th>Bronx</th>\n",
       "      <td>0.493585</td>\n",
       "      <td>0.506415</td>\n",
       "    </tr>\n",
       "    <tr>\n",
       "      <th>Brooklyn</th>\n",
       "      <td>0.501656</td>\n",
       "      <td>0.498344</td>\n",
       "    </tr>\n",
       "    <tr>\n",
       "      <th>Manhattan</th>\n",
       "      <td>0.503647</td>\n",
       "      <td>0.496353</td>\n",
       "    </tr>\n",
       "    <tr>\n",
       "      <th>Queens</th>\n",
       "      <td>0.505504</td>\n",
       "      <td>0.494496</td>\n",
       "    </tr>\n",
       "    <tr>\n",
       "      <th>Staten Island</th>\n",
       "      <td>0.498929</td>\n",
       "      <td>0.501071</td>\n",
       "    </tr>\n",
       "  </tbody>\n",
       "</table>\n",
       "</div>"
      ],
      "text/plain": [
       "instant_bookable        False     True \n",
       "neighbourhood group                    \n",
       "Bronx                0.493585  0.506415\n",
       "Brooklyn             0.501656  0.498344\n",
       "Manhattan            0.503647  0.496353\n",
       "Queens               0.505504  0.494496\n",
       "Staten Island        0.498929  0.501071"
      ]
     },
     "execution_count": 21,
     "metadata": {},
     "output_type": "execute_result"
    }
   ],
   "source": [
    "pd.crosstab(used_airb['neighbourhood group'], used_airb.instant_bookable, normalize = 'index')"
   ]
  },
  {
   "cell_type": "markdown",
   "id": "23c3b4bf",
   "metadata": {},
   "source": [
    "**The instant bookability of the listings are equally split in all neighbourhood**"
   ]
  },
  {
   "cell_type": "code",
   "execution_count": 22,
   "id": "57815223",
   "metadata": {},
   "outputs": [
    {
     "name": "stdout",
     "output_type": "stream",
     "text": [
      "<class 'pandas.core.frame.DataFrame'>\n",
      "Int64Index: 51110 entries, 1 to 102594\n",
      "Data columns (total 14 columns):\n",
      " #   Column                  Non-Null Count  Dtype  \n",
      "---  ------                  --------------  -----  \n",
      " 0   host id                 51110 non-null  object \n",
      " 1   host_identity_verified  51110 non-null  object \n",
      " 2   neighbourhood group     51099 non-null  object \n",
      " 3   neighbourhood           51101 non-null  object \n",
      " 4   instant_bookable        51070 non-null  object \n",
      " 5   cancellation_policy     51084 non-null  object \n",
      " 6   room type               51110 non-null  object \n",
      " 7   Construction year       51026 non-null  float64\n",
      " 8   price                   50980 non-null  float64\n",
      " 9   minimum nights          50910 non-null  float64\n",
      " 10  number of reviews       51012 non-null  float64\n",
      " 11  last review             43193 non-null  object \n",
      " 12  availability 365        50881 non-null  float64\n",
      " 13  house_rules             25253 non-null  object \n",
      "dtypes: float64(5), object(9)\n",
      "memory usage: 5.8+ MB\n"
     ]
    }
   ],
   "source": [
    "used_airb.info()"
   ]
  },
  {
   "cell_type": "markdown",
   "id": "f9a6af14",
   "metadata": {},
   "source": [
    "### Which neighbourhood group has the most recent houses constructed as listings? "
   ]
  },
  {
   "cell_type": "code",
   "execution_count": 23,
   "id": "bfcb477b",
   "metadata": {
    "scrolled": true
   },
   "outputs": [
    {
     "data": {
      "text/html": [
       "<div>\n",
       "<style scoped>\n",
       "    .dataframe tbody tr th:only-of-type {\n",
       "        vertical-align: middle;\n",
       "    }\n",
       "\n",
       "    .dataframe tbody tr th {\n",
       "        vertical-align: top;\n",
       "    }\n",
       "\n",
       "    .dataframe thead th {\n",
       "        text-align: right;\n",
       "    }\n",
       "</style>\n",
       "<table border=\"1\" class=\"dataframe\">\n",
       "  <thead>\n",
       "    <tr style=\"text-align: right;\">\n",
       "      <th>neighbourhood group</th>\n",
       "      <th>Bronx</th>\n",
       "      <th>Brooklyn</th>\n",
       "      <th>Manhattan</th>\n",
       "      <th>Queens</th>\n",
       "      <th>Staten Island</th>\n",
       "    </tr>\n",
       "    <tr>\n",
       "      <th>Construction year</th>\n",
       "      <th></th>\n",
       "      <th></th>\n",
       "      <th></th>\n",
       "      <th></th>\n",
       "      <th></th>\n",
       "    </tr>\n",
       "  </thead>\n",
       "  <tbody>\n",
       "    <tr>\n",
       "      <th>2003.0</th>\n",
       "      <td>72</td>\n",
       "      <td>1074</td>\n",
       "      <td>1051</td>\n",
       "      <td>326</td>\n",
       "      <td>36</td>\n",
       "    </tr>\n",
       "    <tr>\n",
       "      <th>2004.0</th>\n",
       "      <td>82</td>\n",
       "      <td>973</td>\n",
       "      <td>1054</td>\n",
       "      <td>358</td>\n",
       "      <td>33</td>\n",
       "    </tr>\n",
       "    <tr>\n",
       "      <th>2005.0</th>\n",
       "      <td>59</td>\n",
       "      <td>1051</td>\n",
       "      <td>1013</td>\n",
       "      <td>332</td>\n",
       "      <td>22</td>\n",
       "    </tr>\n",
       "    <tr>\n",
       "      <th>2006.0</th>\n",
       "      <td>66</td>\n",
       "      <td>1000</td>\n",
       "      <td>1114</td>\n",
       "      <td>375</td>\n",
       "      <td>28</td>\n",
       "    </tr>\n",
       "    <tr>\n",
       "      <th>2007.0</th>\n",
       "      <td>69</td>\n",
       "      <td>1011</td>\n",
       "      <td>1113</td>\n",
       "      <td>307</td>\n",
       "      <td>26</td>\n",
       "    </tr>\n",
       "    <tr>\n",
       "      <th>2008.0</th>\n",
       "      <td>61</td>\n",
       "      <td>1045</td>\n",
       "      <td>1111</td>\n",
       "      <td>346</td>\n",
       "      <td>26</td>\n",
       "    </tr>\n",
       "    <tr>\n",
       "      <th>2009.0</th>\n",
       "      <td>57</td>\n",
       "      <td>1047</td>\n",
       "      <td>1120</td>\n",
       "      <td>329</td>\n",
       "      <td>27</td>\n",
       "    </tr>\n",
       "    <tr>\n",
       "      <th>2010.0</th>\n",
       "      <td>71</td>\n",
       "      <td>1061</td>\n",
       "      <td>1095</td>\n",
       "      <td>348</td>\n",
       "      <td>25</td>\n",
       "    </tr>\n",
       "    <tr>\n",
       "      <th>2011.0</th>\n",
       "      <td>63</td>\n",
       "      <td>1025</td>\n",
       "      <td>1098</td>\n",
       "      <td>327</td>\n",
       "      <td>29</td>\n",
       "    </tr>\n",
       "    <tr>\n",
       "      <th>2012.0</th>\n",
       "      <td>69</td>\n",
       "      <td>1075</td>\n",
       "      <td>1095</td>\n",
       "      <td>341</td>\n",
       "      <td>19</td>\n",
       "    </tr>\n",
       "    <tr>\n",
       "      <th>2013.0</th>\n",
       "      <td>63</td>\n",
       "      <td>1017</td>\n",
       "      <td>1126</td>\n",
       "      <td>323</td>\n",
       "      <td>23</td>\n",
       "    </tr>\n",
       "    <tr>\n",
       "      <th>2014.0</th>\n",
       "      <td>68</td>\n",
       "      <td>1051</td>\n",
       "      <td>1111</td>\n",
       "      <td>307</td>\n",
       "      <td>25</td>\n",
       "    </tr>\n",
       "    <tr>\n",
       "      <th>2015.0</th>\n",
       "      <td>45</td>\n",
       "      <td>1042</td>\n",
       "      <td>1084</td>\n",
       "      <td>274</td>\n",
       "      <td>15</td>\n",
       "    </tr>\n",
       "    <tr>\n",
       "      <th>2016.0</th>\n",
       "      <td>68</td>\n",
       "      <td>1021</td>\n",
       "      <td>1139</td>\n",
       "      <td>332</td>\n",
       "      <td>12</td>\n",
       "    </tr>\n",
       "    <tr>\n",
       "      <th>2017.0</th>\n",
       "      <td>54</td>\n",
       "      <td>1056</td>\n",
       "      <td>1083</td>\n",
       "      <td>301</td>\n",
       "      <td>16</td>\n",
       "    </tr>\n",
       "    <tr>\n",
       "      <th>2018.0</th>\n",
       "      <td>70</td>\n",
       "      <td>1058</td>\n",
       "      <td>1113</td>\n",
       "      <td>326</td>\n",
       "      <td>10</td>\n",
       "    </tr>\n",
       "    <tr>\n",
       "      <th>2019.0</th>\n",
       "      <td>56</td>\n",
       "      <td>1117</td>\n",
       "      <td>1113</td>\n",
       "      <td>336</td>\n",
       "      <td>21</td>\n",
       "    </tr>\n",
       "    <tr>\n",
       "      <th>2020.0</th>\n",
       "      <td>82</td>\n",
       "      <td>1060</td>\n",
       "      <td>1069</td>\n",
       "      <td>339</td>\n",
       "      <td>21</td>\n",
       "    </tr>\n",
       "    <tr>\n",
       "      <th>2021.0</th>\n",
       "      <td>63</td>\n",
       "      <td>966</td>\n",
       "      <td>1042</td>\n",
       "      <td>361</td>\n",
       "      <td>28</td>\n",
       "    </tr>\n",
       "    <tr>\n",
       "      <th>2022.0</th>\n",
       "      <td>86</td>\n",
       "      <td>1065</td>\n",
       "      <td>1043</td>\n",
       "      <td>337</td>\n",
       "      <td>24</td>\n",
       "    </tr>\n",
       "  </tbody>\n",
       "</table>\n",
       "</div>"
      ],
      "text/plain": [
       "neighbourhood group  Bronx  Brooklyn  Manhattan  Queens  Staten Island\n",
       "Construction year                                                     \n",
       "2003.0                  72      1074       1051     326             36\n",
       "2004.0                  82       973       1054     358             33\n",
       "2005.0                  59      1051       1013     332             22\n",
       "2006.0                  66      1000       1114     375             28\n",
       "2007.0                  69      1011       1113     307             26\n",
       "2008.0                  61      1045       1111     346             26\n",
       "2009.0                  57      1047       1120     329             27\n",
       "2010.0                  71      1061       1095     348             25\n",
       "2011.0                  63      1025       1098     327             29\n",
       "2012.0                  69      1075       1095     341             19\n",
       "2013.0                  63      1017       1126     323             23\n",
       "2014.0                  68      1051       1111     307             25\n",
       "2015.0                  45      1042       1084     274             15\n",
       "2016.0                  68      1021       1139     332             12\n",
       "2017.0                  54      1056       1083     301             16\n",
       "2018.0                  70      1058       1113     326             10\n",
       "2019.0                  56      1117       1113     336             21\n",
       "2020.0                  82      1060       1069     339             21\n",
       "2021.0                  63       966       1042     361             28\n",
       "2022.0                  86      1065       1043     337             24"
      ]
     },
     "execution_count": 23,
     "metadata": {},
     "output_type": "execute_result"
    }
   ],
   "source": [
    "pd.crosstab(used_airb['Construction year'], used_airb['neighbourhood group'])"
   ]
  },
  {
   "cell_type": "code",
   "execution_count": 24,
   "id": "73bcd6d7",
   "metadata": {},
   "outputs": [
    {
     "data": {
      "text/plain": [
       "<AxesSubplot:xlabel='Construction year'>"
      ]
     },
     "execution_count": 24,
     "metadata": {},
     "output_type": "execute_result"
    },
    {
     "data": {
      "text/plain": [
       "<Figure size 864x360 with 0 Axes>"
      ]
     },
     "metadata": {},
     "output_type": "display_data"
    },
    {
     "data": {
      "image/png": "[encoded data removed]",
      "text/plain": [
       "<Figure size 432x288 with 1 Axes>"
      ]
     },
     "metadata": {},
     "output_type": "display_data"
    }
   ],
   "source": [
    "plt.figure(figsize = (12, 5))\n",
    "pd.crosstab(used_airb['Construction year'], used_airb['neighbourhood group']).plot()"
   ]
  },
  {
   "cell_type": "markdown",
   "id": "4089253b",
   "metadata": {},
   "source": [
    "**The number of newly constructed house listings have been relatively the same all the years. There is no unusual increase or decrease in the number of newly constructed houses put for listings**"
   ]
  },
  {
   "cell_type": "code",
   "execution_count": 25,
   "id": "89f858f3",
   "metadata": {
    "scrolled": false
   },
   "outputs": [
    {
     "data": {
      "text/plain": [
       "(array([2000. , 2002.5, 2005. , 2007.5, 2010. , 2012.5, 2015. , 2017.5,\n",
       "        2020. , 2022.5, 2025. ]),\n",
       " [Text(0, 0, ''),\n",
       "  Text(0, 0, ''),\n",
       "  Text(0, 0, ''),\n",
       "  Text(0, 0, ''),\n",
       "  Text(0, 0, ''),\n",
       "  Text(0, 0, ''),\n",
       "  Text(0, 0, ''),\n",
       "  Text(0, 0, ''),\n",
       "  Text(0, 0, ''),\n",
       "  Text(0, 0, ''),\n",
       "  Text(0, 0, '')])"
      ]
     },
     "execution_count": 25,
     "metadata": {},
     "output_type": "execute_result"
    },
    {
     "data": {
      "image/png": "[encoded data removed]",
      "text/plain": [
       "<Figure size 864x360 with 1 Axes>"
      ]
     },
     "metadata": {},
     "output_type": "display_data"
    }
   ],
   "source": [
    "plt.figure(figsize = (12, 5))\n",
    "sns.lineplot(x='Construction year', y= 'price', hue = 'neighbourhood group', \n",
    "             data = used_airb, err_style = None) \n",
    "plt.title('Neighbourhood group Listings Prices trend by Construction Year')\n",
    "plt.xticks(rotation = 60)"
   ]
  },
  {
   "cell_type": "code",
   "execution_count": null,
   "id": "fc094076",
   "metadata": {},
   "outputs": [],
   "source": []
  },
  {
   "cell_type": "code",
   "execution_count": 26,
   "id": "c40f0834",
   "metadata": {},
   "outputs": [
    {
     "name": "stdout",
     "output_type": "stream",
     "text": [
      "<class 'pandas.core.frame.DataFrame'>\n",
      "Int64Index: 51110 entries, 1 to 102594\n",
      "Data columns (total 14 columns):\n",
      " #   Column                  Non-Null Count  Dtype  \n",
      "---  ------                  --------------  -----  \n",
      " 0   host id                 51110 non-null  object \n",
      " 1   host_identity_verified  51110 non-null  object \n",
      " 2   neighbourhood group     51099 non-null  object \n",
      " 3   neighbourhood           51101 non-null  object \n",
      " 4   instant_bookable        51070 non-null  object \n",
      " 5   cancellation_policy     51084 non-null  object \n",
      " 6   room type               51110 non-null  object \n",
      " 7   Construction year       51026 non-null  float64\n",
      " 8   price                   50980 non-null  float64\n",
      " 9   minimum nights          50910 non-null  float64\n",
      " 10  number of reviews       51012 non-null  float64\n",
      " 11  last review             43193 non-null  object \n",
      " 12  availability 365        50881 non-null  float64\n",
      " 13  house_rules             25253 non-null  object \n",
      "dtypes: float64(5), object(9)\n",
      "memory usage: 5.8+ MB\n"
     ]
    }
   ],
   "source": [
    "used_airb.info()"
   ]
  },
  {
   "cell_type": "code",
   "execution_count": 27,
   "id": "f4ee214e",
   "metadata": {},
   "outputs": [
    {
     "data": {
      "text/plain": [
       "neighbourhood group\n",
       "Bronx             450.0\n",
       "Brooklyn          648.0\n",
       "Manhattan        1024.0\n",
       "Queens            563.0\n",
       "Staten Island     333.0\n",
       "Name: number of reviews, dtype: float64"
      ]
     },
     "execution_count": 27,
     "metadata": {},
     "output_type": "execute_result"
    }
   ],
   "source": [
    "used_airb.groupby('neighbourhood group')['number of reviews'].max()"
   ]
  },
  {
   "cell_type": "markdown",
   "id": "29d88ae1",
   "metadata": {},
   "source": [
    "### What percentage of the house listingis not available for our clients who would want to smoke?"
   ]
  },
  {
   "cell_type": "code",
   "execution_count": 28,
   "id": "b6da0240",
   "metadata": {},
   "outputs": [
    {
     "name": "stderr",
     "output_type": "stream",
     "text": [
      "<ipython-input-28-74d98a73fc35>:1: SettingWithCopyWarning: \n",
      "A value is trying to be set on a copy of a slice from a DataFrame.\n",
      "Try using .loc[row_indexer,col_indexer] = value instead\n",
      "\n",
      "See the caveats in the documentation: https://pandas.pydata.org/pandas-docs/stable/user_guide/indexing.html#returning-a-view-versus-a-copy\n",
      "  used_airb['house_rules'] = used_airb['house_rules'].str.lower()\n"
     ]
    }
   ],
   "source": [
    "used_airb['house_rules'] = used_airb['house_rules'].str.lower()"
   ]
  },
  {
   "cell_type": "code",
   "execution_count": 29,
   "id": "809c6d3b",
   "metadata": {},
   "outputs": [
    {
     "data": {
      "text/plain": [
       "12636"
      ]
     },
     "execution_count": 29,
     "metadata": {},
     "output_type": "execute_result"
    }
   ],
   "source": [
    "used_airb['house_rules'].str.contains('no smoking').sum()"
   ]
  },
  {
   "cell_type": "markdown",
   "id": "eebe4342",
   "metadata": {},
   "source": [
    "**About 12636 listings, which is about 25% of the total listings does not allow smoking in the house**"
   ]
  },
  {
   "cell_type": "markdown",
   "id": "110ff152",
   "metadata": {},
   "source": [
    "### Which neighbourhood group has the most check in time rules?"
   ]
  },
  {
   "cell_type": "code",
   "execution_count": 30,
   "id": "1c17156d",
   "metadata": {},
   "outputs": [
    {
     "name": "stderr",
     "output_type": "stream",
     "text": [
      "<ipython-input-30-17f5793638d9>:1: SettingWithCopyWarning: \n",
      "A value is trying to be set on a copy of a slice from a DataFrame.\n",
      "Try using .loc[row_indexer,col_indexer] = value instead\n",
      "\n",
      "See the caveats in the documentation: https://pandas.pydata.org/pandas-docs/stable/user_guide/indexing.html#returning-a-view-versus-a-copy\n",
      "  used_airb['check_in'] = used_airb['house_rules'].str.contains('check in')\n"
     ]
    }
   ],
   "source": [
    "used_airb['check_in'] = used_airb['house_rules'].str.contains('check in')"
   ]
  },
  {
   "cell_type": "code",
   "execution_count": 31,
   "id": "7d0603a3",
   "metadata": {},
   "outputs": [
    {
     "data": {
      "text/plain": [
       "neighbourhood group\n",
       "Manhattan        998\n",
       "Brooklyn         895\n",
       "Queens           291\n",
       "Bronx             54\n",
       "Staten Island     25\n",
       "Name: check_in, dtype: int64"
      ]
     },
     "execution_count": 31,
     "metadata": {},
     "output_type": "execute_result"
    }
   ],
   "source": [
    "check_in_rules = used_airb.groupby('neighbourhood group')['check_in'].sum().sort_values(ascending = False)\n",
    "check_in_rules"
   ]
  },
  {
   "cell_type": "code",
   "execution_count": 32,
   "id": "e8a08d97",
   "metadata": {},
   "outputs": [
    {
     "data": {
      "text/plain": [
       "<AxesSubplot:title={'center':'Number of check ins by Neighbourhood group'}, ylabel='neighbourhood group'>"
      ]
     },
     "execution_count": 32,
     "metadata": {},
     "output_type": "execute_result"
    },
    {
     "data": {
      "image/png": "[encoded data removed]",
      "text/plain": [
       "<Figure size 360x360 with 1 Axes>"
      ]
     },
     "metadata": {},
     "output_type": "display_data"
    }
   ],
   "source": [
    "plt.figure(figsize = (5, 5))\n",
    "check_in_rules.plot(kind = 'barh', title = 'Number of check ins by Neighbourhood group')"
   ]
  },
  {
   "cell_type": "markdown",
   "id": "348a39bb",
   "metadata": {},
   "source": [
    "**Manhattan, Brooklyn still have the highest number of listings with check ins**"
   ]
  },
  {
   "cell_type": "markdown",
   "id": "31860102",
   "metadata": {},
   "source": [
    "### Which room type is the cheapest to stay in in California?"
   ]
  },
  {
   "cell_type": "code",
   "execution_count": 33,
   "id": "c14f9622",
   "metadata": {},
   "outputs": [
    {
     "data": {
      "text/plain": [
       "room type\n",
       "Entire home/apt    625.0\n",
       "Hotel room         693.0\n",
       "Private room       622.0\n",
       "Shared room        630.0\n",
       "Name: price, dtype: float64"
      ]
     },
     "execution_count": 33,
     "metadata": {},
     "output_type": "execute_result"
    }
   ],
   "source": [
    "# price groupby room type \n",
    "roomtype_price = round(used_airb.groupby('room type')['price'].mean())\n",
    "roomtype_price"
   ]
  },
  {
   "cell_type": "markdown",
   "id": "6f7d84e1",
   "metadata": {},
   "source": [
    "**Private room is the cheapest to stay as an Hotel room is the costliest tio stay in AirBnB house listings.**"
   ]
  },
  {
   "cell_type": "markdown",
   "id": "195b40e1",
   "metadata": {},
   "source": [
    "### Are house listings with much expensive compared to the listings with less reviews?"
   ]
  },
  {
   "cell_type": "code",
   "execution_count": 34,
   "id": "77eedd2f",
   "metadata": {},
   "outputs": [
    {
     "data": {
      "text/plain": [
       "<AxesSubplot:xlabel='price', ylabel='number of reviews'>"
      ]
     },
     "execution_count": 34,
     "metadata": {},
     "output_type": "execute_result"
    },
    {
     "data": {
      "image/png": "[encoded data removed]",
      "text/plain": [
       "<Figure size 432x288 with 1 Axes>"
      ]
     },
     "metadata": {},
     "output_type": "display_data"
    }
   ],
   "source": [
    "# price vs reviews comparison\n",
    "sns.regplot(x = 'price', y = 'number of reviews', data = used_airb, line_kws = {'color':'red'})"
   ]
  },
  {
   "cell_type": "markdown",
   "id": "ff43e601",
   "metadata": {},
   "source": [
    "**The reviews of an house listings is not dependent on the price for the listings**"
   ]
  },
  {
   "cell_type": "markdown",
   "id": "2e181821",
   "metadata": {},
   "source": [
    "### Which house listings are the most recently reviewed in California?"
   ]
  },
  {
   "cell_type": "code",
   "execution_count": 35,
   "id": "fc610c2f",
   "metadata": {},
   "outputs": [
    {
     "name": "stderr",
     "output_type": "stream",
     "text": [
      "<ipython-input-35-5201ae78490c>:1: SettingWithCopyWarning: \n",
      "A value is trying to be set on a copy of a slice from a DataFrame.\n",
      "Try using .loc[row_indexer,col_indexer] = value instead\n",
      "\n",
      "See the caveats in the documentation: https://pandas.pydata.org/pandas-docs/stable/user_guide/indexing.html#returning-a-view-versus-a-copy\n",
      "  used_airb['last review'] = pd.to_datetime(used_airb['last review'])\n"
     ]
    }
   ],
   "source": [
    "used_airb['last review'] = pd.to_datetime(used_airb['last review'])"
   ]
  },
  {
   "cell_type": "code",
   "execution_count": 36,
   "id": "2efdf032",
   "metadata": {},
   "outputs": [
    {
     "data": {
      "text/html": [
       "<div>\n",
       "<style scoped>\n",
       "    .dataframe tbody tr th:only-of-type {\n",
       "        vertical-align: middle;\n",
       "    }\n",
       "\n",
       "    .dataframe tbody tr th {\n",
       "        vertical-align: top;\n",
       "    }\n",
       "\n",
       "    .dataframe thead th {\n",
       "        text-align: right;\n",
       "    }\n",
       "</style>\n",
       "<table border=\"1\" class=\"dataframe\">\n",
       "  <thead>\n",
       "    <tr style=\"text-align: right;\">\n",
       "      <th></th>\n",
       "      <th>host id</th>\n",
       "      <th>host_identity_verified</th>\n",
       "      <th>neighbourhood group</th>\n",
       "      <th>neighbourhood</th>\n",
       "      <th>instant_bookable</th>\n",
       "      <th>cancellation_policy</th>\n",
       "      <th>room type</th>\n",
       "      <th>Construction year</th>\n",
       "      <th>price</th>\n",
       "      <th>minimum nights</th>\n",
       "      <th>number of reviews</th>\n",
       "      <th>last review</th>\n",
       "      <th>availability 365</th>\n",
       "      <th>house_rules</th>\n",
       "      <th>check_in</th>\n",
       "    </tr>\n",
       "  </thead>\n",
       "  <tbody>\n",
       "    <tr>\n",
       "      <th>483</th>\n",
       "      <td>13746585241</td>\n",
       "      <td>verified</td>\n",
       "      <td>Manhattan</td>\n",
       "      <td>Harlem</td>\n",
       "      <td>False</td>\n",
       "      <td>flexible</td>\n",
       "      <td>Private room</td>\n",
       "      <td>NaN</td>\n",
       "      <td>721.0</td>\n",
       "      <td>2.0</td>\n",
       "      <td>41.0</td>\n",
       "      <td>2040-06-16</td>\n",
       "      <td>47.0</td>\n",
       "      <td>NaN</td>\n",
       "      <td>NaN</td>\n",
       "    </tr>\n",
       "    <tr>\n",
       "      <th>318</th>\n",
       "      <td>70084472212</td>\n",
       "      <td>verified</td>\n",
       "      <td>Brooklyn</td>\n",
       "      <td>Greenpoint</td>\n",
       "      <td>True</td>\n",
       "      <td>flexible</td>\n",
       "      <td>Private room</td>\n",
       "      <td>2018.0</td>\n",
       "      <td>920.0</td>\n",
       "      <td>2.0</td>\n",
       "      <td>1.0</td>\n",
       "      <td>2026-03-28</td>\n",
       "      <td>73.0</td>\n",
       "      <td>check-in is 3pm.  check-out is 12 noon.  in or...</td>\n",
       "      <td>False</td>\n",
       "    </tr>\n",
       "    <tr>\n",
       "      <th>1</th>\n",
       "      <td>52335172823</td>\n",
       "      <td>verified</td>\n",
       "      <td>Manhattan</td>\n",
       "      <td>Midtown</td>\n",
       "      <td>False</td>\n",
       "      <td>moderate</td>\n",
       "      <td>Entire home/apt</td>\n",
       "      <td>2007.0</td>\n",
       "      <td>142.0</td>\n",
       "      <td>30.0</td>\n",
       "      <td>45.0</td>\n",
       "      <td>2022-05-21</td>\n",
       "      <td>228.0</td>\n",
       "      <td>pet friendly but please confirm with me if the...</td>\n",
       "      <td>False</td>\n",
       "    </tr>\n",
       "    <tr>\n",
       "      <th>1099</th>\n",
       "      <td>52770805301</td>\n",
       "      <td>verified</td>\n",
       "      <td>Brooklyn</td>\n",
       "      <td>Bedford-Stuyvesant</td>\n",
       "      <td>True</td>\n",
       "      <td>flexible</td>\n",
       "      <td>Private room</td>\n",
       "      <td>2003.0</td>\n",
       "      <td>170.0</td>\n",
       "      <td>7.0</td>\n",
       "      <td>2.0</td>\n",
       "      <td>2022-05-05</td>\n",
       "      <td>158.0</td>\n",
       "      <td>this is a residential property and quiet is ma...</td>\n",
       "      <td>False</td>\n",
       "    </tr>\n",
       "    <tr>\n",
       "      <th>69309</th>\n",
       "      <td>25481131720</td>\n",
       "      <td>verified</td>\n",
       "      <td>Queens</td>\n",
       "      <td>Sunnyside</td>\n",
       "      <td>False</td>\n",
       "      <td>moderate</td>\n",
       "      <td>Private room</td>\n",
       "      <td>2021.0</td>\n",
       "      <td>343.0</td>\n",
       "      <td>3.0</td>\n",
       "      <td>1.0</td>\n",
       "      <td>2022-04-04</td>\n",
       "      <td>330.0</td>\n",
       "      <td>NaN</td>\n",
       "      <td>NaN</td>\n",
       "    </tr>\n",
       "    <tr>\n",
       "      <th>1133</th>\n",
       "      <td>13291240388</td>\n",
       "      <td>verified</td>\n",
       "      <td>Queens</td>\n",
       "      <td>Sunnyside</td>\n",
       "      <td>False</td>\n",
       "      <td>flexible</td>\n",
       "      <td>Private room</td>\n",
       "      <td>2021.0</td>\n",
       "      <td>343.0</td>\n",
       "      <td>3.0</td>\n",
       "      <td>1.0</td>\n",
       "      <td>2022-04-04</td>\n",
       "      <td>105.0</td>\n",
       "      <td>please be quiet and respectful of the other re...</td>\n",
       "      <td>False</td>\n",
       "    </tr>\n",
       "    <tr>\n",
       "      <th>49689</th>\n",
       "      <td>58154836066</td>\n",
       "      <td>verified</td>\n",
       "      <td>Queens</td>\n",
       "      <td>Woodside</td>\n",
       "      <td>True</td>\n",
       "      <td>strict</td>\n",
       "      <td>Private room</td>\n",
       "      <td>2012.0</td>\n",
       "      <td>755.0</td>\n",
       "      <td>2.0</td>\n",
       "      <td>24.0</td>\n",
       "      <td>2022-03-03</td>\n",
       "      <td>241.0</td>\n",
       "      <td>NaN</td>\n",
       "      <td>NaN</td>\n",
       "    </tr>\n",
       "    <tr>\n",
       "      <th>49705</th>\n",
       "      <td>97724863506</td>\n",
       "      <td>verified</td>\n",
       "      <td>Queens</td>\n",
       "      <td>Jamaica</td>\n",
       "      <td>False</td>\n",
       "      <td>flexible</td>\n",
       "      <td>Private room</td>\n",
       "      <td>2010.0</td>\n",
       "      <td>1192.0</td>\n",
       "      <td>1.0</td>\n",
       "      <td>7.0</td>\n",
       "      <td>2022-03-03</td>\n",
       "      <td>338.0</td>\n",
       "      <td>NaN</td>\n",
       "      <td>NaN</td>\n",
       "    </tr>\n",
       "    <tr>\n",
       "      <th>49702</th>\n",
       "      <td>81894124227</td>\n",
       "      <td>verified</td>\n",
       "      <td>Brooklyn</td>\n",
       "      <td>Williamsburg</td>\n",
       "      <td>False</td>\n",
       "      <td>moderate</td>\n",
       "      <td>Entire home/apt</td>\n",
       "      <td>2017.0</td>\n",
       "      <td>1021.0</td>\n",
       "      <td>2.0</td>\n",
       "      <td>13.0</td>\n",
       "      <td>2022-03-03</td>\n",
       "      <td>3.0</td>\n",
       "      <td>NaN</td>\n",
       "      <td>NaN</td>\n",
       "    </tr>\n",
       "    <tr>\n",
       "      <th>49698</th>\n",
       "      <td>14954303676</td>\n",
       "      <td>verified</td>\n",
       "      <td>Manhattan</td>\n",
       "      <td>Lower East Side</td>\n",
       "      <td>True</td>\n",
       "      <td>strict</td>\n",
       "      <td>Entire home/apt</td>\n",
       "      <td>2011.0</td>\n",
       "      <td>1151.0</td>\n",
       "      <td>1.0</td>\n",
       "      <td>5.0</td>\n",
       "      <td>2022-03-03</td>\n",
       "      <td>162.0</td>\n",
       "      <td>NaN</td>\n",
       "      <td>NaN</td>\n",
       "    </tr>\n",
       "  </tbody>\n",
       "</table>\n",
       "</div>"
      ],
      "text/plain": [
       "           host id host_identity_verified neighbourhood group  \\\n",
       "483    13746585241               verified           Manhattan   \n",
       "318    70084472212               verified            Brooklyn   \n",
       "1      52335172823               verified           Manhattan   \n",
       "1099   52770805301               verified            Brooklyn   \n",
       "69309  25481131720               verified              Queens   \n",
       "1133   13291240388               verified              Queens   \n",
       "49689  58154836066               verified              Queens   \n",
       "49705  97724863506               verified              Queens   \n",
       "49702  81894124227               verified            Brooklyn   \n",
       "49698  14954303676               verified           Manhattan   \n",
       "\n",
       "            neighbourhood instant_bookable cancellation_policy  \\\n",
       "483                Harlem            False            flexible   \n",
       "318            Greenpoint             True            flexible   \n",
       "1                 Midtown            False            moderate   \n",
       "1099   Bedford-Stuyvesant             True            flexible   \n",
       "69309           Sunnyside            False            moderate   \n",
       "1133            Sunnyside            False            flexible   \n",
       "49689            Woodside             True              strict   \n",
       "49705             Jamaica            False            flexible   \n",
       "49702        Williamsburg            False            moderate   \n",
       "49698     Lower East Side             True              strict   \n",
       "\n",
       "             room type  Construction year   price  minimum nights  \\\n",
       "483       Private room                NaN   721.0             2.0   \n",
       "318       Private room             2018.0   920.0             2.0   \n",
       "1      Entire home/apt             2007.0   142.0            30.0   \n",
       "1099      Private room             2003.0   170.0             7.0   \n",
       "69309     Private room             2021.0   343.0             3.0   \n",
       "1133      Private room             2021.0   343.0             3.0   \n",
       "49689     Private room             2012.0   755.0             2.0   \n",
       "49705     Private room             2010.0  1192.0             1.0   \n",
       "49702  Entire home/apt             2017.0  1021.0             2.0   \n",
       "49698  Entire home/apt             2011.0  1151.0             1.0   \n",
       "\n",
       "       number of reviews last review  availability 365  \\\n",
       "483                 41.0  2040-06-16              47.0   \n",
       "318                  1.0  2026-03-28              73.0   \n",
       "1                   45.0  2022-05-21             228.0   \n",
       "1099                 2.0  2022-05-05             158.0   \n",
       "69309                1.0  2022-04-04             330.0   \n",
       "1133                 1.0  2022-04-04             105.0   \n",
       "49689               24.0  2022-03-03             241.0   \n",
       "49705                7.0  2022-03-03             338.0   \n",
       "49702               13.0  2022-03-03               3.0   \n",
       "49698                5.0  2022-03-03             162.0   \n",
       "\n",
       "                                             house_rules check_in  \n",
       "483                                                  NaN      NaN  \n",
       "318    check-in is 3pm.  check-out is 12 noon.  in or...    False  \n",
       "1      pet friendly but please confirm with me if the...    False  \n",
       "1099   this is a residential property and quiet is ma...    False  \n",
       "69309                                                NaN      NaN  \n",
       "1133   please be quiet and respectful of the other re...    False  \n",
       "49689                                                NaN      NaN  \n",
       "49705                                                NaN      NaN  \n",
       "49702                                                NaN      NaN  \n",
       "49698                                                NaN      NaN  "
      ]
     },
     "execution_count": 36,
     "metadata": {},
     "output_type": "execute_result"
    }
   ],
   "source": [
    "used_airb[used_airb['last review'].notnull()].sort_values('last review', ascending = False).head(10)"
   ]
  },
  {
   "cell_type": "markdown",
   "id": "7b849cb8",
   "metadata": {},
   "source": [
    "### Does house listings with instant bookability get more reviews?"
   ]
  },
  {
   "cell_type": "code",
   "execution_count": 37,
   "id": "e1abc272",
   "metadata": {},
   "outputs": [
    {
     "data": {
      "text/plain": [
       "instant_bookable\n",
       "False    27.044866\n",
       "True     27.520758\n",
       "Name: number of reviews, dtype: float64"
      ]
     },
     "execution_count": 37,
     "metadata": {},
     "output_type": "execute_result"
    }
   ],
   "source": [
    "# reviews group by bookability \n",
    "used_airb.groupby('instant_bookable')['number of reviews'].mean()"
   ]
  },
  {
   "cell_type": "markdown",
   "id": "cdd3cd44",
   "metadata": {},
   "source": [
    "**Instant bookability of a listing does not influence the number of reviews it can get**"
   ]
  },
  {
   "cell_type": "code",
   "execution_count": 38,
   "id": "b0f2f79b",
   "metadata": {},
   "outputs": [
    {
     "name": "stdout",
     "output_type": "stream",
     "text": [
      "<class 'pandas.core.frame.DataFrame'>\n",
      "Int64Index: 51110 entries, 1 to 102594\n",
      "Data columns (total 15 columns):\n",
      " #   Column                  Non-Null Count  Dtype         \n",
      "---  ------                  --------------  -----         \n",
      " 0   host id                 51110 non-null  object        \n",
      " 1   host_identity_verified  51110 non-null  object        \n",
      " 2   neighbourhood group     51099 non-null  object        \n",
      " 3   neighbourhood           51101 non-null  object        \n",
      " 4   instant_bookable        51070 non-null  object        \n",
      " 5   cancellation_policy     51084 non-null  object        \n",
      " 6   room type               51110 non-null  object        \n",
      " 7   Construction year       51026 non-null  float64       \n",
      " 8   price                   50980 non-null  float64       \n",
      " 9   minimum nights          50910 non-null  float64       \n",
      " 10  number of reviews       51012 non-null  float64       \n",
      " 11  last review             43193 non-null  datetime64[ns]\n",
      " 12  availability 365        50881 non-null  float64       \n",
      " 13  house_rules             25253 non-null  object        \n",
      " 14  check_in                25253 non-null  object        \n",
      "dtypes: datetime64[ns](1), float64(5), object(9)\n",
      "memory usage: 6.2+ MB\n"
     ]
    }
   ],
   "source": [
    "used_airb.info()"
   ]
  },
  {
   "cell_type": "code",
   "execution_count": 39,
   "id": "d960b76b",
   "metadata": {},
   "outputs": [
    {
     "data": {
      "text/plain": [
       "host id                       0\n",
       "host_identity_verified        0\n",
       "neighbourhood group          11\n",
       "neighbourhood                 9\n",
       "instant_bookable             40\n",
       "cancellation_policy          26\n",
       "room type                     0\n",
       "Construction year            84\n",
       "price                       130\n",
       "minimum nights              200\n",
       "number of reviews            98\n",
       "last review                7917\n",
       "availability 365            229\n",
       "house_rules               25857\n",
       "check_in                  25857\n",
       "dtype: int64"
      ]
     },
     "execution_count": 39,
     "metadata": {},
     "output_type": "execute_result"
    }
   ],
   "source": [
    "used_airb.isnull().sum()"
   ]
  },
  {
   "cell_type": "code",
   "execution_count": 40,
   "id": "e9021c80",
   "metadata": {},
   "outputs": [],
   "source": [
    "used_airb.to_csv('Desktop/airb_clean.csv', index = False)"
   ]
  },
  {
   "cell_type": "code",
   "execution_count": null,
   "id": "537fd159",
   "metadata": {},
   "outputs": [],
   "source": []
  }
 ],
 "metadata": {
  "kernelspec": {
   "display_name": "Python 3",
   "language": "python",
   "name": "python3"
  },
  "language_info": {
   "codemirror_mode": {
    "name": "ipython",
    "version": 3
   },
   "file_extension": ".py",
   "mimetype": "text/x-python",
   "name": "python",
   "nbconvert_exporter": "python",
   "pygments_lexer": "ipython3",
   "version": "3.8.8"
  }
 },
 "nbformat": 4,
 "nbformat_minor": 5
}
